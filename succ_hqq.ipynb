{
  "nbformat": 4,
  "nbformat_minor": 0,
  "metadata": {
    "colab": {
      "private_outputs": true,
      "provenance": [],
      "gpuType": "T4"
    },
    "kernelspec": {
      "name": "python3",
      "display_name": "Python 3"
    },
    "language_info": {
      "name": "python"
    },
    "accelerator": "GPU"
  },
  "cells": [
    {
      "cell_type": "code",
      "execution_count": null,
      "metadata": {
        "id": "ypBqLLeWAILV"
      },
      "outputs": [],
      "source": []
    },
    {
      "cell_type": "code",
      "source": [],
      "metadata": {
        "id": "lHJbpf5DAK21"
      },
      "execution_count": null,
      "outputs": []
    },
    {
      "cell_type": "code",
      "source": [],
      "metadata": {
        "id": "YfBkfe1jAK57"
      },
      "execution_count": null,
      "outputs": []
    },
    {
      "cell_type": "code",
      "source": [
        "!pip install git+https://github.com/huggingface/transformers"
      ],
      "metadata": {
        "id": "ha86PwcMAK8y"
      },
      "execution_count": null,
      "outputs": []
    },
    {
      "cell_type": "code",
      "source": [
        "!pip install hqq"
      ],
      "metadata": {
        "id": "lpFPecDOAK-y"
      },
      "execution_count": null,
      "outputs": []
    },
    {
      "cell_type": "code",
      "source": [
        "import torch\n",
        "from transformers import AutoTokenizer\n",
        "from hqq.models.hf.base import AutoHQQHFModel\n",
        "from hqq.core.quantize import *\n",
        "from hqq.utils.patching import *\n",
        "from hqq.utils.generation_hf import HFGenerator\n",
        "\n",
        "#Load the model\n",
        "###################################################\n",
        "model_id = 'mobiuslabsgmbh/Llama-3-8b-instruct_2bitgs64_hqq'\n",
        "model     = AutoHQQHFModel.from_quantized(model_id, cache_dir='.', compute_dtype=torch.float16, adapter='adapter_v0.1.lora')\n",
        "tokenizer = AutoTokenizer.from_pretrained(model_id)"
      ],
      "metadata": {
        "id": "xujaJkNEBMc2"
      },
      "execution_count": null,
      "outputs": []
    },
    {
      "cell_type": "code",
      "source": [
        "from hqq.utils.patching import prepare_for_inference\n",
        "\n",
        "HQQLinear.set_backend(HQQBackend.PYTORCH)"
      ],
      "metadata": {
        "id": "VtWKnhqHCuHs"
      },
      "execution_count": null,
      "outputs": []
    },
    {
      "cell_type": "code",
      "source": [
        "gen = HFGenerator(model, tokenizer, max_new_tokens=100, do_sample=True, compile=\"partial\").warmup() #Faster generation, but warm-up takes a while\n",
        "\n",
        "gen.generate(\"Write an essay about large language models\", print_tokens=True)\n"
      ],
      "metadata": {
        "id": "dmCXNYzmDHHj"
      },
      "execution_count": null,
      "outputs": []
    },
    {
      "cell_type": "code",
      "source": [],
      "metadata": {
        "id": "6gs1eUyYHLC8"
      },
      "execution_count": null,
      "outputs": []
    },
    {
      "cell_type": "code",
      "source": [],
      "metadata": {
        "id": "mIX-rjgNHLAM"
      },
      "execution_count": null,
      "outputs": []
    },
    {
      "cell_type": "code",
      "source": [],
      "metadata": {
        "id": "C8FFov-sHK8F"
      },
      "execution_count": null,
      "outputs": []
    },
    {
      "cell_type": "code",
      "source": [
        "import torch\n",
        "from transformers import AutoTokenizer\n",
        "from hqq.models.hf.base import AutoHQQHFModel\n",
        "from hqq.core.quantize import *\n",
        "from hqq.utils.patching import *\n",
        "from hqq.utils.generation_hf import HFGenerator\n",
        "\n",
        "#Load the model\n",
        "###################################################\n",
        "model_id = 'mobiuslabsgmbh/Llama-3-8b-instruct_2bitgs64_hqq'\n",
        "model     = AutoHQQHFModel.from_quantized(model_id, cache_dir='.', compute_dtype=torch.float16, adapter='adapter_v0.1.lora')\n",
        "tokenizer = AutoTokenizer.from_pretrained(model_id)"
      ],
      "metadata": {
        "id": "l1ewE8nDHLhi"
      },
      "execution_count": null,
      "outputs": []
    },
    {
      "cell_type": "code",
      "source": [
        "from hqq.utils.patching import prepare_for_inference\n",
        "#prepare_for_inference(model)\n",
        "\n",
        "HQQLinear.set_backend(HQQBackend.PYTORCH_COMPILE)"
      ],
      "metadata": {
        "id": "gxjTcfgzH6QP"
      },
      "execution_count": null,
      "outputs": []
    },
    {
      "cell_type": "code",
      "source": [],
      "metadata": {
        "id": "AD1DPUsCHgzF"
      },
      "execution_count": null,
      "outputs": []
    },
    {
      "cell_type": "code",
      "source": [
        "gen = HFGenerator(model, tokenizer, max_new_tokens=5, do_sample=True, compile=\"partial\").warmup() #Faster generation, but warm-up takes a while\n",
        "\n",
        "gen.generate(\"What is the result of the following addition operation 34+67?\", print_tokens=True)\n"
      ],
      "metadata": {
        "id": "Yi44oXBzHiH0"
      },
      "execution_count": null,
      "outputs": []
    },
    {
      "cell_type": "code",
      "source": [
        "!pip install bitblas"
      ],
      "metadata": {
        "id": "gav_4HhlLlcF"
      },
      "execution_count": null,
      "outputs": []
    },
    {
      "cell_type": "code",
      "source": [
        "import torch\n",
        "from transformers import AutoTokenizer\n",
        "from hqq.models.hf.base import AutoHQQHFModel\n",
        "from hqq.core.quantize import *\n",
        "from hqq.utils.patching import *\n",
        "from hqq.utils.generation_hf import HFGenerator\n",
        "\n",
        "#Load the model\n",
        "###################################################\n",
        "model_id = 'mobiuslabsgmbh/Llama-3-8b-instruct_2bitgs64_hqq'\n",
        "model     = AutoHQQHFModel.from_quantized(model_id, cache_dir='.', compute_dtype=torch.float16, adapter='adapter_v0.1.lora')\n",
        "tokenizer = AutoTokenizer.from_pretrained(model_id)\n",
        "\n",
        "patch_linearlayers(model, patch_add_quant_config,\n",
        "                          BaseQuantizeConfig(nbits=2, group_size=64, quant_scale=False, quant_zero=False, axis=1))\n",
        "\n",
        "model.eval();\n",
        "cleanup()\n",
        "\n",
        "#Use optimized inference kernels\n",
        "###################################################\n",
        "HQQLinear.set_backend(HQQBackend.PYTORCH)\n",
        "#prepare_for_inference(model) #default backend\n",
        "prepare_for_inference(model, backend=\"bitblas\", allow_merge=False) #It takes a while...\n",
        "\n",
        "#Generate\n",
        "###################################################\n",
        "#For longer context, make sure to allocate enough cache via the cache_size= parameter\n",
        "#gen = HFGenerator(model, tokenizer, max_new_tokens=1000, do_sample=True, compile=None) #Slower generation but no warm-up\n",
        "gen = HFGenerator(model, tokenizer, max_new_tokens=5, do_sample=True, compile=\"partial\").warmup() #Faster generation, but warm-up takes a while\n",
        "\n",
        "gen.generate(\"Write an essay about large language models\", print_tokens=True)\n"
      ],
      "metadata": {
        "id": "9f8hkChXLhUO"
      },
      "execution_count": null,
      "outputs": []
    }
  ]
}